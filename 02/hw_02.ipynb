{
 "cells": [
  {
   "cell_type": "markdown",
   "metadata": {},
   "source": [
    "# EXERCISE 2 - ML - Grundverfahren SS 24\n",
    "\n",
    "Denis Blessing: denis.blessing@kit.edu. This homework has 4 topics with 19 points in total.\n",
    "\n",
    "## Submission Instructions\n",
    "Submission deadline: May 24, 2024, 9:30 Berlin time. Please follow the instruction from homework ZERO!\n"
   ]
  },
  {
   "cell_type": "markdown",
   "metadata": {},
   "source": [
    "## 1.) Multiclass Classification (7p)\n",
    "\n",
    "The Iris Dataset is a very classical machine learning and statistics benchmark for classification, developed in the 1930's. The goal is to classify 3 types of flowers (more specifically, 3 types of flowers form the Iris species) based on 4 features: petal length, petal width, sepal length and sepal width.\n",
    "\n",
    "As we have $K=3$ different types of flowers we are dealing with a multi-class classification problem and need to extend our sigmoid-based classifier from the previous exercise / recap session.\n",
    "\n",
    "We will reuse our \"minimize\" and \"affine feature\" functions. Those are exactly as before. The affine features are sufficient here."
   ]
  },
  {
   "cell_type": "code",
   "execution_count": 16,
   "metadata": {
    "ExecuteTime": {
     "end_time": "2024-05-22T17:37:20.292348100Z",
     "start_time": "2024-05-22T17:37:20.267282500Z"
    }
   },
   "outputs": [],
   "source": [
    "%matplotlib inline\n",
    "\n",
    "import numpy as np\n",
    "import matplotlib.pyplot as plt\n",
    "import warnings\n",
    "from typing import Callable, Tuple\n",
    "\n",
    "warnings.filterwarnings('ignore')\n",
    "\n",
    "def minimize(f: Callable , df: Callable, x0: np.ndarray, lr: float, num_iters: int) -> \\\n",
    "        Tuple[np.ndarray, float, np.ndarray, np.ndarray]:\n",
    "    \"\"\"\n",
    "    :param f: objective function\n",
    "    :param df: gradient of objective function\n",
    "    :param x0: start point, shape [dimension]\n",
    "    :param lr: learning rate\n",
    "    :param num_iters: maximum number of iterations\n",
    "    :return argmin, min, values of x for all interations, value of f(x) for all iterations\n",
    "    \"\"\"\n",
    "    # initialize\n",
    "    x = np.zeros([num_iters + 1] + list(x0.shape))\n",
    "    f_x = np.zeros(num_iters + 1)\n",
    "    x[0] = x0\n",
    "    f_x[0] = f(x0)\n",
    "    for i in range(num_iters):\n",
    "        # update using gradient descent rule\n",
    "        grad = df(x[i])\n",
    "        x[i + 1] = x[i] - lr * grad\n",
    "        f_x[i + 1] = f(x[i + 1])\n",
    "    return x[i+1], f_x[i+1], x[:i+1], f_x[:i+1] # logging info for visualization\n",
    "\n",
    "\n",
    "def affine_features(x: np.ndarray) -> np.ndarray:\n",
    "    \"\"\"\n",
    "    implements affine feature function\n",
    "    :param x: inputs\n",
    "    :return inputs with additional bias dimension\n",
    "    \"\"\"\n",
    "    return np.concatenate([x, np.ones((x.shape[0], 1))], axis=-1)"
   ]
  },
  {
   "cell_type": "markdown",
   "metadata": {},
   "source": [
    "### Load and Prepare Data\n",
    "In the original dataset the different types of flowers are labeled with $0, 1$ and $2$. The output of our classifier will be a vector with $K=3$ entries, $\\begin{pmatrix}p(c=0 | \\boldsymbol x) & p(c=1 | \\boldsymbol x) & p(c=2 | \\boldsymbol x) \\end{pmatrix}$, i.e. the probability for each class that a given sample is an instance of that class, given a datapoint $\\boldsymbol x$. As presented in the lecture, working with categorical (=multinomial) distributions is easiest when we represent the labels in a different form, a so called one-hot encoding. This is a vector of the length of number of classes, in this case 3, with zeros everywhere except for the entry corresponding to the class number, which is one. For the train and test data we know to which class it belongs, so the probability for that class is one and the probability for all other classes zero."
   ]
  },
  {
   "cell_type": "code",
   "execution_count": 17,
   "metadata": {
    "ExecuteTime": {
     "end_time": "2024-05-22T17:37:21.293573500Z",
     "start_time": "2024-05-22T17:37:21.275621Z"
    }
   },
   "outputs": [],
   "source": [
    "data = np.load(\"iris_data.npz\")\n",
    "train_samples = data[\"train_features\"]\n",
    "train_labels = data[\"train_labels\"]\n",
    "test_samples = data[\"test_features\"]\n",
    "test_labels = data[\"test_labels\"]\n",
    "\n",
    "train_features = affine_features(train_samples)\n",
    "test_features = affine_features(test_samples)\n",
    "\n",
    "def generate_one_hot_encoding(y: np.ndarray, num_classes: int) -> np.ndarray:\n",
    "    \"\"\"\n",
    "    :param y: vector containing classes as numbers, shape: [N]\n",
    "    :param num_classes: number of classes\n",
    "    :return a matrix containing the labels in an one-hot encoding, shape: [N x K]\n",
    "    \"\"\"\n",
    "    y_oh = np.zeros([y.shape[0], num_classes])\n",
    "\n",
    "    # can be done more efficiently using numpy with\n",
    "    # y_oh[np.arange(y.size), y] = 1.0\n",
    "    # we use the for loop for clarity\n",
    "\n",
    "    for i in range(y.shape[0]):\n",
    "        y_oh[i, y[i]] = 1.0\n",
    "\n",
    "    return y_oh\n",
    "\n",
    "\n",
    "oh_train_labels = generate_one_hot_encoding(train_labels, 3)\n",
    "oh_test_labels = generate_one_hot_encoding(test_labels, 3)"
   ]
  },
  {
   "cell_type": "markdown",
   "metadata": {},
   "source": [
    "### Optimization using Gradient Descent\n",
    "\n",
    "The multi-class generalization of the sigmoid is the softmax function. It takes an vector of length $K$ and outputs another vector of length $K$ where the $k$-th entry is given by\n",
    "$$ \\textrm{softmax}(\\boldsymbol{x})_k = \\dfrac{\\exp(x_k)}{\\sum_{j=1}^K \\exp(x_j)}.$$\n",
    "This vector contains positive elements which sum to $1$ and thus can be interpreted as parameters of a categorical distribution. Lets see how we can implement it"
   ]
  },
  {
   "cell_type": "code",
   "execution_count": 18,
   "metadata": {
    "ExecuteTime": {
     "end_time": "2024-05-22T17:37:21.836916800Z",
     "start_time": "2024-05-22T17:37:21.819668900Z"
    }
   },
   "outputs": [],
   "source": [
    "def softmax(x: np.ndarray) -> np.ndarray:\n",
    "    \"\"\"softmax function\n",
    "    :param x: inputs, shape: [N x K]\n",
    "    :return softmax(x), shape [N x K]\n",
    "    \"\"\"\n",
    "    a = np.max(x, axis=-1, keepdims=True)\n",
    "    log_normalizer = a + np.log(np.sum(np.exp(x - a), axis=-1, keepdims=True))\n",
    "    return np.exp(x - log_normalizer)"
   ]
  },
  {
   "cell_type": "markdown",
   "metadata": {},
   "source": [
    "**Practical Aspect:** In the above implementation of the softmax we stayed in the log-domain until the very last command.\n",
    "We also used the log-sum-exp-trick (https://en.wikipedia.org/wiki/LogSumExp#log-sum-exp_trick_for_log-domain_calculations).\n",
    "Staying in the log domain and applying the log-sum-exp-trick whenever possible is a simple way to make the implementation\n",
    "numerically more robust. It does not change anything with regards to the underlying theory.\n",
    "\n",
    "We also need to extend our loss function. Instead of the log-likelihood of a Bernoulli distribution, we now maximize the log-likelihood of a categorical distribution which, for a single sample $\\boldsymbol{x}_i$, is given by\n",
    "$$\\log p(c_i | \\boldsymbol x_i) = \\sum_{k=1}^K h_{i, k} \\log(p_{i,k})$$\n",
    "where $\\boldsymbol h_i$ denotes the one-hot encoded true label and $p_{i,k} \\equiv p(c_i = k | \\boldsymbol x_i)$ the class probabilities predicted by the classifier. In multiclass classification, we learn one weight vector $\\boldsymbol w_k$ per class s.t. those probabilities are given by $p(c_i = k | \\boldsymbol x_i) = \\mathrm{softmax}(\\boldsymbol w^T \\boldsymbol \\phi (\\boldsymbol x_i))_k $.\n",
    "We can now implement the (negative) log-likelihood of a categorical distribution (we use the negative log-likelihood as we will minimize the loss later on)."
   ]
  },
  {
   "cell_type": "code",
   "execution_count": 19,
   "metadata": {
    "ExecuteTime": {
     "end_time": "2024-05-22T17:37:22.245756100Z",
     "start_time": "2024-05-22T17:37:22.243236900Z"
    }
   },
   "outputs": [],
   "source": [
    "def categorical_nll(predictions: np.ndarray, labels: np.ndarray, epsilon: float = 1e-12) -> np.ndarray:\n",
    "    \"\"\"\n",
    "    cross entropy loss function\n",
    "    :param predictions: class labels predicted by the classifier, shape: [N x K]\n",
    "    :param labels: true class labels, shape: [N x K]\n",
    "    :param epsilon: small offset to avoid numerical instabilities (i.e log(0))\n",
    "    :return negative log-likelihood of the labels given the predictions, shape: [N]\n",
    "    \"\"\"\n",
    "    return - np.sum(labels * np.log(predictions + epsilon), -1)\n"
   ]
  },
  {
   "cell_type": "markdown",
   "metadata": {},
   "source": [
    "This gives us the loss for a single sample. To get the loss for all samples we will need to sum over loss for a single sample\n",
    "\n",
    "\\begin{align}\n",
    "\\mathcal L_{\\mathrm{cat-NLL}}\n",
    "=& - \\sum_{i=1}^N \\log p(c_i | \\boldsymbol x_i) \\\\\n",
    "=& - \\sum_{i=1}^N \\sum_{k=1}^K h_{i, k} \\log(p_{i,k}) \\\\\n",
    "=& - \\sum_{i=1}^N  \\sum_{k=1}^K h_{i, k} \\log(\\textrm{softmax}(\\boldsymbol{w}_k^T \\boldsymbol \\phi(\\boldsymbol{x}_i))_k)\\\\\n",
    "=& - \\sum_{i=1}^N \\left(\\sum_{k=1}^K h_{i,k}\\boldsymbol{w}^T_k \\boldsymbol \\phi(\\boldsymbol{x}_i) - \\log \\sum_{j=1}^K \\exp(\\boldsymbol{w}_j^T \\boldsymbol \\phi(\\boldsymbol{x}_i))\\right).\n",
    "\\end{align}\n",
    "\n",
    "In order to use gradient based optimization for this, we of course also need to derive the gradient.\n",
    "\n"
   ]
  },
  {
   "cell_type": "markdown",
   "metadata": {},
   "source": [
    "### Exercise 1.1) Derivation (4 Points)\n",
    "Derive the gradient $\\dfrac{\\partial \\mathcal L_{\\mathrm{cat-NLL}}}{\\partial \\boldsymbol{w}}$ of the loss function w.r.t. the full weight vector $\\boldsymbol w \\equiv \\begin{pmatrix} \\boldsymbol w_1^T & \\dots & \\boldsymbol w_K^T \\end{pmatrix}^T$, which is obtained by stacking the class-specific weight vectors $\\boldsymbol w_k$.\n",
    "\n",
    "**Hint 1:** Follow the steps in the derivation of the gradient of the loss for the binary classification in the lecture.\n",
    "\n",
    "**Hint 2:** Derive the gradient not for the whole vector $\\boldsymbol w$ but only for $\\boldsymbol w_k$, i.e., $\\dfrac{\\partial \\mathcal L_{\\mathrm{cat-NLL}}}{\\partial \\boldsymbol{w}_k}$. The gradients for the individual\n",
    "$\\boldsymbol w_k$ can then be stacked to obtain the full gradient."
   ]
  },
  {
   "cell_type": "markdown",
   "metadata": {},
   "source": [
    "**Answer:**\n",
    "\n",
    "\\begin{align*}\n",
    "\\frac{\\partial\\mathcal{L}_{\\text{cat}}-NLL}{\\partial \\boldsymbol{w}_l} &= - \\frac{\\partial}{\\partial \\boldsymbol{w}_k} \\sum_{i=1}^{N} \\left(\\sum_{k=1}^{K}h_{i,k} \\boldsymbol{w}_{k}^T \\boldsymbol{\\phi}(\\boldsymbol{x}_i) -\\log \\sum_{j=1}^{K} \\exp(\\boldsymbol{w}_{j}^{T} \\boldsymbol{\\phi}(\\boldsymbol{x}_i)) \\right) \\\\\n",
    " &= -\\sum_{i=1}^{N} \\left( \\frac{\\partial}{\\boldsymbol{w}_l} \\left( h_{i,l} \\boldsymbol{w}_l^T \\boldsymbol{\\phi}(\\boldsymbol{x_i}) \\right) - \\frac{\\partial}{\\boldsymbol{w}_l} \\log\\left(\\sum_{j=1}^{k} \\exp(\\boldsymbol{w}_{j}^T \\boldsymbol{\\phi}(\\boldsymbol{x}_i))\\right)\\right) \\\\\n",
    " &= -\\sum_{i=1}^{N} \\left( h_{i,l} \\boldsymbol{\\phi}(\\boldsymbol{x}_i)- \\frac{1}{\\sum_{j=1}^{K} \\exp(\\boldsymbol{w}_{j}^{T} \\boldsymbol{\\phi}(\\boldsymbol{x}_i))} \\boldsymbol{\\phi}(\\boldsymbol{x}_i) \\exp(\\boldsymbol{w}_{l}^T \\boldsymbol{\\phi}(\\boldsymbol{x}_i))\\right)\n",
    "\\end{align*}\n"
   ]
  },
  {
   "cell_type": "markdown",
   "metadata": {},
   "source": [
    "### Exercise 1.2) Implementation (3 Points)\n",
    "Now that we have the formulas for the loss and its gradient, we can implement them. Fill in the function skeletons below so that they implement the loss and its gradient. Again, in praxis, it is advisable to work with the mean nll instead of the sum, as this simplifies setting the learning rate.\n",
    "\n",
    "**Hint:** The optimizer works with vectors only. So the function get the weights as vectors in the flat_weights parameter.\n",
    "Make sure you use efficient vectorized computations (no for-loops!). Thus, we reshape the weights appropriately before using them for the computations. For the gradients make sure to return\n",
    "again a vector by flattening the result."
   ]
  },
  {
   "cell_type": "code",
   "execution_count": 20,
   "metadata": {
    "ExecuteTime": {
     "end_time": "2024-05-22T17:37:23.371189200Z",
     "start_time": "2024-05-22T17:37:23.355787300Z"
    }
   },
   "outputs": [],
   "source": [
    "# objective\n",
    "def objective_cat(flat_weights: np.ndarray, features: np.ndarray, labels: np.ndarray) -> float:\n",
    "    \"\"\"\n",
    "    :param flat_weights: weights of the classifier (as flattened vector), shape: [feature_dim * K]\n",
    "    :param features: samples to evaluate objective on, shape: [N x feature_dim]\n",
    "    :param labels: labels corresponding to samples, shape: [N x K]\n",
    "    :return cross entropy loss of the classifier given the samples\n",
    "    \"\"\"\n",
    "    num_features = features.shape[-1]\n",
    "    num_classes = labels.shape[-1]\n",
    "    weights = np.reshape(flat_weights, [num_features, num_classes])\n",
    "    # h_i ist hot encoded label\n",
    "    return np.matmul(labels,np.matmul(weights.T,features.T)) - np.log(np.exp(np.matmul(weights.T,features.T)))\n",
    "\n",
    "    #---------------------------------------------------------------\n",
    "    # TODO\n",
    "    #---------------------------------------------------------------\n",
    "\n",
    "\n",
    "# derivative\n",
    "def d_objective_cat(flat_weights: np.ndarray, features: np.ndarray, labels: np.ndarray) -> np.ndarray:\n",
    "    \"\"\"\n",
    "    :param flat_weights: weights of the classifier (as flattened vector), shape: [feature_dim * K]\n",
    "    :param features: samples to evaluate objective on, shape: [N x feature_dim]\n",
    "    :param labels: labels corresponding to samples, shape: [N x K]\n",
    "    :return gradient of cross entropy loss of the classifier given the samples, shape: [feature_dim * K]\n",
    "    \"\"\"\n",
    "    feature_dim = features.shape[-1]\n",
    "    num_classes = labels.shape[-1]\n",
    "    weights = np.reshape(flat_weights, [feature_dim, num_classes])\n",
    "    print(weights)\n",
    "    #---------------------------------------------------------------\n",
    "    # TODO, do not forget to flatten the gradient before returning!\n",
    "    #---------------------------------------------------------------\n"
   ]
  },
  {
   "cell_type": "markdown",
   "metadata": {},
   "source": [
    "Finally, we can tie everything together again. Both train and test accuracy should be at least 0.9:"
   ]
  },
  {
   "cell_type": "code",
   "execution_count": 21,
   "metadata": {
    "scrolled": false,
    "ExecuteTime": {
     "end_time": "2024-05-22T17:37:24.053425400Z",
     "start_time": "2024-05-22T17:37:23.993050400Z"
    }
   },
   "outputs": [
    {
     "ename": "ValueError",
     "evalue": "operands could not be broadcast together with shapes (120,120) (3,120) ",
     "output_type": "error",
     "traceback": [
      "\u001B[1;31m---------------------------------------------------------------------------\u001B[0m",
      "\u001B[1;31mValueError\u001B[0m                                Traceback (most recent call last)",
      "Cell \u001B[1;32mIn[21], line 5\u001B[0m\n\u001B[0;32m      1\u001B[0m \u001B[38;5;66;03m# optimization\u001B[39;00m\n\u001B[0;32m      3\u001B[0m w0_flat \u001B[38;5;241m=\u001B[39m np\u001B[38;5;241m.\u001B[39mzeros(\u001B[38;5;241m5\u001B[39m \u001B[38;5;241m*\u001B[39m \u001B[38;5;241m3\u001B[39m) \u001B[38;5;66;03m# 4 features + bias, 3 classes\u001B[39;00m\n\u001B[0;32m      4\u001B[0m w_opt_flat, loss_opt, x_history, f_x_history \u001B[38;5;241m=\u001B[39m \\\n\u001B[1;32m----> 5\u001B[0m    minimize(\u001B[38;5;28;01mlambda\u001B[39;00m w: objective_cat(w, train_features, oh_train_labels),\n\u001B[0;32m      6\u001B[0m             \u001B[38;5;28;01mlambda\u001B[39;00m w: d_objective_cat(w, train_features, oh_train_labels),\n\u001B[0;32m      7\u001B[0m             w0_flat, \u001B[38;5;241m1e-2\u001B[39m, \u001B[38;5;241m1000\u001B[39m)\n\u001B[0;32m      9\u001B[0m w_opt \u001B[38;5;241m=\u001B[39m np\u001B[38;5;241m.\u001B[39mreshape(w_opt_flat, [\u001B[38;5;241m5\u001B[39m, \u001B[38;5;241m3\u001B[39m])\n\u001B[0;32m     11\u001B[0m \u001B[38;5;66;03m# plotting and evaluation\u001B[39;00m\n",
      "Cell \u001B[1;32mIn[16], line 24\u001B[0m, in \u001B[0;36mminimize\u001B[1;34m(f, df, x0, lr, num_iters)\u001B[0m\n\u001B[0;32m     22\u001B[0m f_x \u001B[38;5;241m=\u001B[39m np\u001B[38;5;241m.\u001B[39mzeros(num_iters \u001B[38;5;241m+\u001B[39m \u001B[38;5;241m1\u001B[39m)\n\u001B[0;32m     23\u001B[0m x[\u001B[38;5;241m0\u001B[39m] \u001B[38;5;241m=\u001B[39m x0\n\u001B[1;32m---> 24\u001B[0m f_x[\u001B[38;5;241m0\u001B[39m] \u001B[38;5;241m=\u001B[39m f(x0)\n\u001B[0;32m     25\u001B[0m \u001B[38;5;28;01mfor\u001B[39;00m i \u001B[38;5;129;01min\u001B[39;00m \u001B[38;5;28mrange\u001B[39m(num_iters):\n\u001B[0;32m     26\u001B[0m     \u001B[38;5;66;03m# update using gradient descent rule\u001B[39;00m\n\u001B[0;32m     27\u001B[0m     grad \u001B[38;5;241m=\u001B[39m df(x[i])\n",
      "Cell \u001B[1;32mIn[21], line 5\u001B[0m, in \u001B[0;36m<lambda>\u001B[1;34m(w)\u001B[0m\n\u001B[0;32m      1\u001B[0m \u001B[38;5;66;03m# optimization\u001B[39;00m\n\u001B[0;32m      3\u001B[0m w0_flat \u001B[38;5;241m=\u001B[39m np\u001B[38;5;241m.\u001B[39mzeros(\u001B[38;5;241m5\u001B[39m \u001B[38;5;241m*\u001B[39m \u001B[38;5;241m3\u001B[39m) \u001B[38;5;66;03m# 4 features + bias, 3 classes\u001B[39;00m\n\u001B[0;32m      4\u001B[0m w_opt_flat, loss_opt, x_history, f_x_history \u001B[38;5;241m=\u001B[39m \\\n\u001B[1;32m----> 5\u001B[0m    minimize(\u001B[38;5;28;01mlambda\u001B[39;00m w: objective_cat(w, train_features, oh_train_labels),\n\u001B[0;32m      6\u001B[0m             \u001B[38;5;28;01mlambda\u001B[39;00m w: d_objective_cat(w, train_features, oh_train_labels),\n\u001B[0;32m      7\u001B[0m             w0_flat, \u001B[38;5;241m1e-2\u001B[39m, \u001B[38;5;241m1000\u001B[39m)\n\u001B[0;32m      9\u001B[0m w_opt \u001B[38;5;241m=\u001B[39m np\u001B[38;5;241m.\u001B[39mreshape(w_opt_flat, [\u001B[38;5;241m5\u001B[39m, \u001B[38;5;241m3\u001B[39m])\n\u001B[0;32m     11\u001B[0m \u001B[38;5;66;03m# plotting and evaluation\u001B[39;00m\n",
      "Cell \u001B[1;32mIn[20], line 13\u001B[0m, in \u001B[0;36mobjective_cat\u001B[1;34m(flat_weights, features, labels)\u001B[0m\n\u001B[0;32m     11\u001B[0m weights \u001B[38;5;241m=\u001B[39m np\u001B[38;5;241m.\u001B[39mreshape(flat_weights, [num_features, num_classes])\n\u001B[0;32m     12\u001B[0m \u001B[38;5;66;03m# h_i ist hot encoded label\u001B[39;00m\n\u001B[1;32m---> 13\u001B[0m \u001B[38;5;28;01mreturn\u001B[39;00m np\u001B[38;5;241m.\u001B[39mmatmul(labels,np\u001B[38;5;241m.\u001B[39mmatmul(weights\u001B[38;5;241m.\u001B[39mT,features\u001B[38;5;241m.\u001B[39mT)) \u001B[38;5;241m-\u001B[39m np\u001B[38;5;241m.\u001B[39mlog(np\u001B[38;5;241m.\u001B[39mexp(np\u001B[38;5;241m.\u001B[39mmatmul(weights\u001B[38;5;241m.\u001B[39mT,features\u001B[38;5;241m.\u001B[39mT)))\n",
      "\u001B[1;31mValueError\u001B[0m: operands could not be broadcast together with shapes (120,120) (3,120) "
     ]
    }
   ],
   "source": [
    "\n",
    "# optimization\n",
    "\n",
    "w0_flat = np.zeros(5 * 3) # 4 features + bias, 3 classes\n",
    "w_opt_flat, loss_opt, x_history, f_x_history = \\\n",
    "   minimize(lambda w: objective_cat(w, train_features, oh_train_labels),\n",
    "            lambda w: d_objective_cat(w, train_features, oh_train_labels),\n",
    "            w0_flat, 1e-2, 1000)\n",
    "\n",
    "w_opt = np.reshape(w_opt_flat, [5, 3])\n",
    "\n",
    "# plotting and evaluation\n",
    "print(\"Final Loss:\", loss_opt)\n",
    "plt.figure()\n",
    "plt.plot(f_x_history)\n",
    "plt.xlabel(\"iteration\")\n",
    "plt.ylabel(\"negative categorical log-likelihood\")\n",
    "\n",
    "train_pred = softmax(train_features @ w_opt)\n",
    "train_acc = np.count_nonzero(np.argmax(train_pred, axis=-1) == np.argmax(oh_train_labels, axis=-1))\n",
    "train_acc /= train_labels.shape[0]\n",
    "test_pred = softmax(test_features @ w_opt)\n",
    "test_acc = np.count_nonzero(np.argmax(test_pred, axis=-1) == np.argmax(oh_test_labels, axis=-1))\n",
    "test_acc /= test_labels.shape[0]\n",
    "print(\"Train Accuracy:\", train_acc, \"Test Accuracy:\", test_acc)"
   ]
  },
  {
   "cell_type": "markdown",
   "metadata": {},
   "source": [
    "## 2.) Feature-Based Support Vector Machine (Hinge Loss) (5 Points)\n",
    "In this exercise, we will train a feature-based SVM on the two moons dataset using the hinge loss. We will use the L-BFGS-B algorithm, provided by `scipy.optimize` for the optimization. All you need to know about this optimizer is that it is gradient-based. Otherwise, you can treat it as a black box. Yet, it's also worth a closer look if you are interested. To install scipy, use: **conda install -c conda-forge scikit-learn**\n",
    "\n",
    "We load and visualize the data again. Note we change the label for class 0 to -1."
   ]
  },
  {
   "cell_type": "code",
   "execution_count": 22,
   "metadata": {
    "pycharm": {
     "name": "#%%\n"
    },
    "ExecuteTime": {
     "end_time": "2024-05-22T17:37:26.590212200Z",
     "start_time": "2024-05-22T17:37:24.750102100Z"
    }
   },
   "outputs": [
    {
     "data": {
      "text/plain": "<matplotlib.legend.Legend at 0x20446a84620>"
     },
     "execution_count": 22,
     "metadata": {},
     "output_type": "execute_result"
    },
    {
     "data": {
      "text/plain": "<Figure size 1200x500 with 2 Axes>",
      "image/png": "[encoded data removed]"
     },
     "metadata": {},
     "output_type": "display_data"
    }
   ],
   "source": [
    "%matplotlib inline\n",
    "import numpy as np\n",
    "import matplotlib.pyplot as plt\n",
    "import scipy.optimize as opt\n",
    "\n",
    "## load data\n",
    "train_data = dict(np.load(\"two_moons.npz\", allow_pickle=True))\n",
    "train_samples = train_data[\"samples\"]\n",
    "train_labels = train_data[\"labels\"]\n",
    "# we need to change the labels for class 0 to -1 to account for the different labels used by an SVM\n",
    "train_labels[train_labels == 0] = -1\n",
    "\n",
    "test_data = dict(np.load(\"two_moons_test.npz\", allow_pickle=True))\n",
    "test_samples = test_data[\"samples\"]\n",
    "test_labels = test_data[\"labels\"]\n",
    "# we need to change the labels for class 0 to -1 to account for the different labels used by an SVM\n",
    "test_labels[test_labels == 0] = -1\n",
    "\n",
    "## plot data\n",
    "plt.figure(figsize = (12, 5))\n",
    "plt.subplot(1, 2, 1)\n",
    "plt.grid(\"on\")\n",
    "plt.xlim(-1.5, 2.5)\n",
    "plt.ylim(-1, 1.5)\n",
    "plt.title(\"Train Data\")\n",
    "plt.scatter(x=train_samples[train_labels == -1, 0], y=train_samples[train_labels == -1, 1], label=\"c=-1\", c=\"blue\")\n",
    "plt.scatter(x=train_samples[train_labels == 1, 0], y=train_samples[train_labels == 1, 1], label=\"c=1\", c=\"orange\")\n",
    "\n",
    "plt.legend()\n",
    "plt.subplot(1, 2, 2)\n",
    "plt.grid(\"on\")\n",
    "plt.xlim(-1.5, 2.5)\n",
    "plt.ylim(-1, 1.5)\n",
    "plt.title(\"Test Data\")\n",
    "plt.scatter(x=test_samples[test_labels == -1, 0], y=test_samples[test_labels == -1, 1], label=\"c=-1\", c=\"blue\")\n",
    "plt.scatter(x=test_samples[test_labels == 1, 0], y=test_samples[test_labels == 1, 1], label=\"c=1\", c=\"orange\")\n",
    "\n",
    "plt.legend()"
   ]
  },
  {
   "cell_type": "markdown",
   "metadata": {},
   "source": [
    "For this exercise, we use cubic features $\\phi(\\boldsymbol x)$. Let us define a function to compute those features."
   ]
  },
  {
   "cell_type": "code",
   "execution_count": 23,
   "metadata": {
    "pycharm": {
     "name": "#%%\n"
    },
    "ExecuteTime": {
     "end_time": "2024-05-22T17:37:29.986942Z",
     "start_time": "2024-05-22T17:37:29.952979Z"
    }
   },
   "outputs": [],
   "source": [
    "def cubic_feature_fn(samples: np.ndarray) -> np.ndarray:\n",
    "    \"\"\"\n",
    "    :param x: Batch of 2D data vectors [x, y] [N x dim]\n",
    "    :return cubic features: [x**3, y**3, x**2 * y, x * y**2, x**2, y**2, x*y, x, y, 1]\n",
    "    \"\"\"\n",
    "    x = samples[..., 0]\n",
    "    y = samples[..., 1]\n",
    "    return np.stack([x**3, y**3, x**2 * y, x * y**2, x**2, y**2, x*y, x, y, np.ones(x.shape[0])], axis=-1)"
   ]
  },
  {
   "cell_type": "markdown",
   "metadata": {
    "pycharm": {
     "name": "#%% md\n"
    }
   },
   "source": [
    "### Exercise 2.1) Hinge Loss Objective (2 Points)\n",
    "\n",
    "We will implement the hinge loss objective in this exercise. Its given by\n",
    " $$\\mathcal{L}_{\\boldsymbol{X}, \\boldsymbol{y}}(\\boldsymbol w) = \\parallel \\boldsymbol{w} \\parallel^2 + C \\sum_i^N  \\max \\left( 0, 1 - y_i \\boldsymbol{w}^T \\phi(\\boldsymbol{x}_i) \\right),$$\n",
    " where $\\boldsymbol{w}$ are our model parameters, $\\phi(\\boldsymbol{x})$ are our cubic features and the $y_i \\in \\lbrace{-1, 1\\rbrace}$ are the class labels.\n",
    "\n",
    " The following function implements the hinge loss. Fill in the missing code snippets."
   ]
  },
  {
   "cell_type": "code",
   "execution_count": 24,
   "metadata": {
    "pycharm": {
     "name": "#%%\n"
    },
    "ExecuteTime": {
     "end_time": "2024-05-22T17:37:31.973863600Z",
     "start_time": "2024-05-22T17:37:31.959822400Z"
    }
   },
   "outputs": [],
   "source": [
    "import math\n",
    "def objective_svm(weights: np.ndarray, features: np.ndarray, labels: np.ndarray, slack_regularizer: float) -> float:\n",
    "    \"\"\"\n",
    "    objective for svm training with hinge loss\n",
    "    :param weights: current weights to evaluate (shape: [feature_dim])\n",
    "    :param features: features of training samples (shape:[N x feature_dim])\n",
    "    :param labels: class labels corresponding to train samples (shape: [N])\n",
    "    :param slack_regularizer: factor to weigh the violation of margin with (C in slides)\n",
    "    :returns svm (hinge) objective (shape: scalar)\n",
    "    \"\"\"\n",
    "    ### TODO ###############################\n",
    "    hinge_loss = 1-labels * np.dot(features,weights)\n",
    "    zeros = np.zeros((hinge_loss.shape[0]),np.float64)\n",
    "    hinge_loss = np.max(np.stack((hinge_loss,zeros)),axis=0)\n",
    "    average = slack_regularizer * np.sum(hinge_loss)\n",
    "    final_loss = float(math.pow(np.linalg.norm(weights),2) + average)\n",
    "    return final_loss\n",
    "\n",
    "\n",
    "    ########################################"
   ]
  },
  {
   "cell_type": "markdown",
   "metadata": {},
   "source": [
    "### Exercise 2.2) Hinge Loss Gradient (3 Points)\n",
    "Derive and implement the gradient for the hinge loss objective stated above. For all non-differentiable points in the loss curves, you can use any valid subgradient.\n",
    "\n",
    "**NOTE**: The derivation is explicitly part of this exercise, so state it in the file, not just implement it.\n"
   ]
  },
  {
   "cell_type": "markdown",
   "metadata": {},
   "source": [
    "**Answer**\n",
    "\n",
    "\\begin{*align}\n",
    "  \\nabla_{\\boldsymbol{w}} \\mathcal{L}_{x,y}(\\boldsymbol{w}) = \\boldsymbol{w} +  C \\cdot \\sum_{i}^{N}  \\begin{cases}\n",
    "        0 & \\text{falls} \\hspace{0.2cm} 1<y_i \\boldsymbol{w}^T \\boldsymbol{\\phi}(\\boldsymbol{x_i}) \\\\\n",
    "       -y_i\\boldsymbol{\\phi}(\\boldsymbol{x}_i) & \\text{falls} \\hspace{0.2cm} 1\\geq y_i \\boldsymbol{w}^T \\boldsymbol{\\phi}(\\boldsymbol{x_i})\n",
    "    \\end{cases}\n",
    "\\end{*align}\n"
   ]
  },
  {
   "cell_type": "code",
   "execution_count": 44,
   "metadata": {
    "pycharm": {
     "name": "#%%\n"
    },
    "ExecuteTime": {
     "end_time": "2024-05-22T17:58:50.122608200Z",
     "start_time": "2024-05-22T17:58:50.120089900Z"
    }
   },
   "outputs": [],
   "source": [
    "def d_objective_svm(weights: np.ndarray, features: np.ndarray, labels: np.ndarray, slack_regularizer: float) -> np.ndarray:\n",
    "    \"\"\"\n",
    "    gradient of objective for svm training with hinge loss\n",
    "    :param weights: current weights to evaluate (shape: [feature_dim])\n",
    "    :param features: features of training samples (shape: [N x feature_dim])\n",
    "    :param labels: class labels corresponding to train samples (shape: [N])\n",
    "    :param slack_regularizer: factor to weigh the violation of margin with (C in slides)\n",
    "    :returns gradient of svm objective (shape: [feature_dim])\n",
    "    \"\"\"\n",
    "    ### TODO ###############################\n",
    "    return_val = 2*weights\n",
    "    print(return_val)\n",
    "    zero_array = np.zeros(labels.shape)\n",
    "    for i in range(features.shape[0]):\n",
    "        decision =labels[i]* np.matmul(weights.T,features[i])\n",
    "        decision2 = labels[i] * features[i]\n",
    "        if decision>=1:\n",
    "            zero_array[i] = np.sum()\n",
    "\n",
    "    ########################################"
   ]
  },
  {
   "cell_type": "markdown",
   "metadata": {},
   "source": [
    "### Train and Evaluate\n",
    "Finally, we can tie everything together and get our maximum margin classifier. Here we are using the L-BFGS-B optimizer provided by Scipy. With $C=1000$ you should end up at a training accuracy of 1 and test accuracy of 0.99, but feel free to play around with $C$."
   ]
  },
  {
   "cell_type": "code",
   "execution_count": 45,
   "metadata": {
    "pycharm": {
     "name": "#%%\n"
    },
    "ExecuteTime": {
     "end_time": "2024-05-22T17:58:50.779287Z",
     "start_time": "2024-05-22T17:58:50.688666Z"
    }
   },
   "outputs": [
    {
     "name": "stdout",
     "output_type": "stream",
     "text": [
      "[2. 2. 2. 2. 2. 2. 2. 2. 2. 2.]\n",
      "[ 2.28517304 -0.03467815 -0.56575887  0.14006953  1.73491977  0.10634179\n",
      " -0.4295282   1.31716353 -0.32610089  1.        ]\n",
      "[ 0.00207295 -0.78331256 -0.01498663  0.10834766 -0.01625769 -0.84974782\n",
      "  0.11753697  0.12750566 -0.92181767 -1.        ]\n",
      "[1.30832375e-05 2.39809121e-04 3.44957335e-05 9.09526884e-05\n",
      " 5.55234978e-04 3.85990958e-03 1.46395246e-03 2.35634246e-02\n",
      " 6.21281706e-02 1.00000000e+00]\n",
      "[ 1.02289838 -0.16540218 -0.55727394  0.30360225  1.01520791  0.30131967\n",
      " -0.55308418  1.00757526 -0.54892593  1.        ]\n",
      "[ 0.22201417 -0.26529637 -0.235594    0.25000447 -0.36665177 -0.41287717\n",
      "  0.38907859  0.60551777 -0.64255519 -1.        ]\n",
      "[ 0.81965279 -0.05909553 -0.34114433  0.14198628 -0.87583027 -0.15171776\n",
      "  0.36452573  0.93585804 -0.38950964 -1.        ]\n",
      "[ 0.01188343 -0.00910637 -0.01087451  0.00995124  0.05207484  0.04360773\n",
      " -0.0476536   0.22819912 -0.20882463  1.        ]\n",
      "[6.66267329 0.03959666 1.20684603 0.21860255 3.54078056 0.11617313\n",
      " 0.64136072 1.88169619 0.3408418  1.        ]\n",
      "[-1.11814721 -0.03668523 -0.35795608 -0.11459364 -1.07729007 -0.11040638\n",
      " -0.34487635 -1.03792585 -0.33227456 -1.        ]\n",
      "[ 1.62549204 -0.0742496  -0.58106039  0.20771014  1.3824727   0.17665641\n",
      " -0.4941889   1.17578599 -0.42030514  1.        ]\n",
      "[ 0.05734106 -0.73619688 -0.13426881  0.31440146 -0.14869983 -0.81532229\n",
      "  0.34819289  0.38561617 -0.90295199 -1.        ]\n",
      "[ 0.29855278 -0.02924727 -0.13762875  0.06344498  0.44669807  0.0949271\n",
      " -0.20592171  0.66835475 -0.30810241  1.        ]\n",
      "[ 0.26951514 -0.1807339  -0.23590401  0.20648451 -0.41724273 -0.31966352\n",
      "  0.36520854  0.64594329 -0.56538794 -1.        ]\n",
      "[ 0.03503981 -0.97493259 -0.10617756  0.32173896 -0.10707988 -0.98321778\n",
      "  0.32447317  0.32723062 -0.99157339 -1.        ]\n",
      "[ 4.44236874 -0.09085192 -1.21484568  0.33222141  2.70235916  0.20209524\n",
      " -0.73900874  1.64388539 -0.44955004  1.        ]\n",
      "[ 2.58666546 -0.1732677  -1.05050804  0.42663698  1.88434394  0.31079814\n",
      " -0.76527811  1.37271408 -0.55749272  1.        ]\n",
      "[-0.59259798 -0.02221571 -0.19833233 -0.06637841 -0.70551585 -0.07902663\n",
      " -0.23612399 -0.83994991 -0.28111675 -1.        ]\n",
      "[5.67974021e+00 2.25163112e-04 1.93665114e-01 6.60350208e-03\n",
      " 3.18335922e+00 3.70110576e-03 1.08544687e-01 1.78419708e+00\n",
      " 6.08367139e-02 1.00000000e+00]\n",
      "[ 0.44418198 -0.12817852 -0.29352541  0.19396817 -0.58215767 -0.25422026\n",
      "  0.38470284  0.76299258 -0.5042026  -1.        ]\n",
      "[-0.06825843 -1.17689688 -0.1763398  -0.45555874 -0.16702092 -1.11470241\n",
      " -0.43148421 -0.40868194 -1.05579468 -1.        ]\n",
      "[6.89755121e-05 5.35083853e-02 6.33778114e-04 5.82343915e-03\n",
      " 1.68188626e-03 1.41997674e-01 1.54539295e-02 4.10108066e-02\n",
      " 3.76825787e-01 1.00000000e+00]\n",
      "[ 0.42903118 -0.13537389 -0.29208161  0.19884724  0.5688432   0.26364727\n",
      " -0.38726471  0.75421694 -0.51346594  1.        ]\n",
      "[ 0.0180963  -0.00548831 -0.01215829  0.00816875  0.0689276   0.03111423\n",
      " -0.04631014  0.26254066 -0.17639226  1.        ]\n",
      "[6.15732234 0.03255337 1.07265465 0.18686499 3.35939646 0.10195237\n",
      " 0.58523365 1.83286564 0.31929981 1.        ]\n",
      "[8.52677949 0.05404619 1.5780171  0.29203734 4.17372042 0.14294754\n",
      " 0.77241381 2.04296853 0.37808404 1.        ]\n",
      "[ 0.01059417 -0.00154909 -0.00558132  0.0029404   0.04823673  0.01338805\n",
      " -0.02541251  0.21962862 -0.11570675  1.        ]\n",
      "[-0.23097503 -0.33061739 -0.26030664 -0.29336309 -0.37645235 -0.47813492\n",
      " -0.42425819 -0.61355713 -0.69147301 -1.        ]\n",
      "[ 0.11914012 -0.1378377  -0.12507236  0.13129999  0.24212447  0.26683657\n",
      " -0.25418038  0.49206145 -0.51656226  1.        ]\n",
      "[ 0.02123202 -0.012361   -0.01772878  0.01480356  0.07667624  0.05346084\n",
      " -0.06402481  0.27690475 -0.23121601  1.        ]\n",
      "[ 0.26996536 -0.45646835 -0.32161941  0.38315673 -0.41770726 -0.59284402\n",
      "  0.49762963  0.64630276 -0.76996365 -1.        ]\n",
      "[ 6.30313492e+00 -1.40738926e-04 -1.77490786e-01  4.99798586e-03\n",
      "  3.41222559e+00  2.70567828e-03 -9.60852989e-02  1.84722105e+00\n",
      " -5.20161348e-02  1.00000000e+00]\n",
      "[ 1.27859598 -0.0683405  -0.48163157  0.18142476  1.17802785  0.16715477\n",
      " -0.44374878  1.08536991 -0.40884566  1.        ]\n",
      "[ 1.4040816  -0.07702174 -0.53349784  0.20270898  1.25389614  0.18102652\n",
      " -0.47643305  1.11977504 -0.42547211  1.        ]\n",
      "[-0.51417708 -0.42351173 -0.48198141 -0.4518017  -0.64181295 -0.56395393\n",
      " -0.60162524 -0.80113229 -0.75096866 -1.        ]\n",
      "[ 0.1501057  -0.06688873 -0.11465221  0.08757249  0.28244341  0.16477904\n",
      " -0.21573306  0.53145405 -0.40592985  1.        ]\n",
      "[ 1.34222941e+00  5.35661068e-06  2.12902712e-02  3.37703560e-04\n",
      " -1.21679617e+00 -3.06144683e-04 -1.93006652e-02  1.10308484e+00\n",
      "  1.74969907e-02 -1.00000000e+00]\n",
      "[-0.31611592 -0.77592022 -0.42641905 -0.57521054 -0.46404943 -0.84439317\n",
      " -0.62597138 -0.68121174 -0.91890869 -1.        ]\n",
      "[-0.13676476 -1.07114862 -0.27160184 -0.53937551 -0.26545005 -1.04688704\n",
      " -0.52715862 -0.51521844 -1.02317498 -1.        ]\n",
      "[-0.79662528 -0.10964817 -0.41131056 -0.21236631 -0.85934863 -0.22908726\n",
      " -0.44369564 -0.92701059 -0.47863061 -1.        ]\n",
      "[ 7.10846277e+00 -1.45804145e-05 -9.03178837e-02  1.14755051e-03\n",
      "  3.69700861e+00  5.96824415e-04 -4.69730242e-02  1.92276067e+00\n",
      " -2.44299901e-02  1.00000000e+00]\n",
      "[ 0.99532314 -0.01579984 -0.25014602  0.06286705 -0.99687966 -0.06296537\n",
      "  0.25053721  0.99843861 -0.25092901 -1.        ]\n",
      "[-0.00462612 -0.89305126 -0.02673643 -0.15452186 -0.02776374 -0.92736548\n",
      " -0.16045915 -0.16662456 -0.96299817 -1.        ]\n",
      "[ 2.79193784e-04 -6.14335777e-04 -3.63138615e-04  4.72323029e-04\n",
      "  4.27173035e-03  7.22665306e-03 -5.55610594e-03  6.53584757e-02\n",
      " -8.50097233e-02  1.00000000e+00]\n",
      "[-1.15869185e+00 -1.11409268e-03 -1.14363053e-01 -1.12876499e-02\n",
      " -1.10317726e+00 -1.07468424e-02 -1.08883755e-01 -1.05032246e+00\n",
      " -1.03666978e-01 -1.00000000e+00]\n",
      "[ 0.01410715 -0.99611966 -0.05830824  0.24100205 -0.05838386 -0.99741143\n",
      "  0.24131458  0.24162752 -0.99870488 -1.        ]\n",
      "[ 5.54489566e+00 -9.06834653e-05 -1.40746722e-01  3.57259016e-03\n",
      "  3.13277294e+00  2.01845345e-03 -7.95195344e-02  1.76996411e+00\n",
      " -4.49272017e-02  1.00000000e+00]\n",
      "[ 4.76090948 -0.0158626  -0.71107941  0.10620532  2.83004462  0.06313201\n",
      " -0.4226895   1.68227365 -0.25126085  1.        ]\n",
      "[-0.35886039 -0.33630549 -0.35117884 -0.34366171 -0.50499105 -0.48360336\n",
      " -0.49418151 -0.71062722 -0.69541596 -1.        ]\n",
      "[ 2.49913776 -0.02293117 -0.52320134  0.10953363  1.84159219  0.08071435\n",
      " -0.38554237  1.35705276 -0.28410271  1.        ]\n",
      "[ 5.47120971e+00 -7.10202998e-05 -1.28582858e-01  3.02191878e-03\n",
      "  3.10495689e+00  1.71496397e-03 -7.29718384e-02  1.76208878e+00\n",
      " -4.14121235e-02  1.00000000e+00]\n",
      "[ 7.03393068e+00 -6.08869464e-04 -3.11152614e-01  1.37641318e-02\n",
      "  3.67112120e+00  7.18372110e-03 -1.62395538e-01  1.91601701e+00\n",
      " -8.47568351e-02  1.00000000e+00]\n",
      "[ 0.41946466 -0.57602746 -0.46624191  0.51823561 -0.56035543 -0.6923018\n",
      "  0.62284434  0.74856892 -0.83204675 -1.        ]\n",
      "[-0.01545873 -0.9725008  -0.0614817  -0.24452198 -0.06205582 -0.98158213\n",
      " -0.24680536 -0.24911006 -0.99074827 -1.        ]\n",
      "[ 1.01741250e+00  4.34934244e-04  7.66430151e-02  5.77361861e-03\n",
      " -1.01157491e+00 -5.74049137e-03 -7.62032612e-02  1.00577080e+00\n",
      "  7.57660305e-02 -1.00000000e+00]\n",
      "[ 0.64120136 -0.03791094 -0.24979542  0.09731381 -0.74358329 -0.11285211\n",
      "  0.28968076  0.86231276 -0.33593468 -1.        ]\n",
      "[-6.87724641e-01  3.64679780e-04  5.56647528e-02 -4.50553102e-03\n",
      " -7.79129635e-01 -5.10435795e-03  6.30631156e-02 -8.82683202e-01\n",
      "  7.14447896e-02 -1.00000000e+00]\n",
      "[ 0.01123681 -0.56843511 -0.04155809  0.15369801 -0.05016821 -0.68620508\n",
      "  0.18554159  0.22398262 -0.82837497 -1.        ]\n",
      "[ 1.42519176e-02 -5.53071085e-10 -4.82513187e-05  1.63359754e-07\n",
      "  5.87826105e-02  6.73783910e-07 -1.99014515e-04  2.42451254e-01\n",
      " -8.20843414e-04  1.00000000e+00]\n",
      "[-9.34487111e-05 -1.15726525e+00 -2.16202070e-03 -5.00203101e-02\n",
      " -2.05928067e-03 -1.10227158e+00 -4.76433264e-02 -4.53792979e-02\n",
      " -1.04989122e+00 -1.00000000e+00]\n",
      "[ 0.36051616 -0.4384705  -0.38482501  0.41077295 -0.50654321 -0.5771565\n",
      "  0.54069835  0.71171849 -0.75970816 -1.        ]\n",
      "[ 1.19025162 -0.11436257 -0.54515561  0.2496906   1.12311921  0.23560758\n",
      " -0.51440782  1.05977319 -0.48539426  1.        ]\n",
      "[ 0.16921481 -0.06940411 -0.12572471  0.09341205  0.30593247  0.16888462\n",
      " -0.2273044   0.55311163 -0.41095574  1.        ]\n",
      "[ 5.55593822 -0.01054437 -0.68787862  0.08516599  3.1369308   0.04808546\n",
      " -0.38838222  1.77113828 -0.21928396  1.        ]\n",
      "[-0.58385776 -0.02435424 -0.20248657 -0.07022397 -0.69856159 -0.08402007\n",
      " -0.24226678 -0.83579997 -0.28986215 -1.        ]\n",
      "[0.00101874 0.24166244 0.00630634 0.03903852 0.01012452 0.38797711\n",
      " 0.06267442 0.10062069 0.62287808 1.        ]\n",
      "[ 4.08428271 -0.05462004 -0.96945546  0.23011235  2.55511547  0.14395762\n",
      " -0.60648854  1.59847285 -0.37941748  1.        ]\n",
      "[ 0.00848587 -1.1518139  -0.04361055  0.22412326 -0.04160359 -1.09880732\n",
      "  0.21380909  0.20396957 -1.0482401  -1.        ]\n",
      "[4.04829535e-05 1.72441280e-02 3.04599046e-04 2.29184313e-03\n",
      " 1.17900268e-03 6.67463454e-02 8.87097065e-03 3.43366085e-02\n",
      " 2.58353141e-01 1.00000000e+00]\n",
      "[ 0.20665081 -0.04793435 -0.12697172  0.07801478  0.34953559  0.13195663\n",
      " -0.21476391  0.59121535 -0.36325835  1.        ]\n",
      "[-0.70057921 -0.02032343 -0.21526353 -0.06614297 -0.78880835 -0.07447284\n",
      " -0.24237327 -0.88814883 -0.27289713 -1.        ]\n",
      "[-2.05750980e-04 -1.40522727e+00 -3.90370326e-03 -7.40647707e-02\n",
      " -3.48520190e-03 -1.25457813e+00 -6.61245648e-02 -5.90355985e-02\n",
      " -1.12007952e+00 -1.00000000e+00]\n",
      "[ 0.81393879 -0.16741636 -0.48046357  0.28361499 -0.8717551  -0.30376094\n",
      "  0.51459222  0.93367827 -0.55114512 -1.        ]\n",
      "[ 0.07026263 -0.01915999 -0.04556325  0.02954643  0.17027449  0.07160283\n",
      " -0.110418    0.4126433  -0.26758705  1.        ]\n",
      "[10.03953199  0.16969995  2.57653602  0.66123978  4.65381354  0.30651694\n",
      "  1.19435032  2.15726993  0.55363972  1.        ]\n",
      "[-0.03614917 -1.06653746 -0.11170114 -0.34515714 -0.10932821 -1.0438804\n",
      " -0.33782477 -0.33064817 -1.02170465 -1.        ]\n",
      "[ 4.80378869 -0.06062095 -1.11839918  0.2603813   2.84701178  0.15431749\n",
      " -0.66283008  1.68730903 -0.39283265  1.        ]\n",
      "[ 0.60987923 -0.16808123 -0.39688891  0.25828197 -0.71916613 -0.30456464\n",
      "  0.46800916  0.84803663 -0.55187375 -1.        ]\n",
      "[-0.81309221 -0.00204781 -0.11062589 -0.01505129 -0.87115052 -0.01612602\n",
      " -0.11852506 -0.93335445 -0.12698826 -1.        ]\n",
      "[ 1.45372473 -0.19281842 -0.74137447  0.37808816  1.28328008  0.33375851\n",
      " -0.65445065  1.13281953 -0.57771837  1.        ]\n",
      "[-1.20505863 -0.09173351 -0.51071834 -0.21644857 -1.13241458 -0.20340049\n",
      " -0.47993091 -1.0641497  -0.45099943 -1.        ]\n",
      "[-0.31080842 -0.35986556 -0.32636878 -0.34270816 -0.45884061 -0.5059336\n",
      " -0.48181208 -0.67737774 -0.7112901  -1.        ]\n",
      "[8.53113954 0.02127615 1.15691754 0.1568909  4.17514308 0.07678247\n",
      " 0.56619591 2.04331669 0.2770965  1.        ]\n",
      "[3.47571534e-03 1.76634272e-05 5.97568630e-04 1.02738065e-04\n",
      " 2.29454265e-02 6.78239868e-04 3.94493384e-03 1.51477478e-01\n",
      " 2.60430388e-02 1.00000000e+00]\n",
      "[-0.20503233 -0.51967072 -0.27954881 -0.38114738 -0.34770817 -0.64637641\n",
      " -0.47407843 -0.58966785 -0.80397538 -1.        ]\n",
      "[6.58209243e+00 3.97027959e-03 5.56138568e-01 4.69896329e-02\n",
      " 3.51217368e+00 2.50734480e-02 2.96752935e-01 1.87407942e+00\n",
      " 1.58345976e-01 1.00000000e+00]\n",
      "[7.37482055e-07 4.14021239e-04 6.08380350e-06 5.01878856e-05\n",
      " 8.16270882e-05 5.55497038e-03 6.73376608e-04 9.03477106e-03\n",
      " 7.45316736e-02 1.00000000e+00]\n",
      "[ 5.38092275e-05 -1.28474057e+00 -1.54944554e-03  4.46165390e-02\n",
      " -1.42529416e-03 -1.18179902e+00  4.10415794e-02  3.77530682e-02\n",
      " -1.08710580e+00 -1.00000000e+00]\n",
      "[ 1.16609761 -0.03845581 -0.37394746  0.11991853  1.10787289  0.11393084\n",
      " -0.3552758   1.05255541 -0.33753643  1.        ]\n",
      "[0.00109875 0.04268879 0.00372138 0.01260402 0.01064797 0.12214506\n",
      " 0.03606378 0.10318898 0.34949257 1.        ]\n",
      "[-2.82268342e-04 -1.15038914e+00 -4.50875225e-03 -7.20195780e-02\n",
      " -4.30303404e-03 -1.09790100e+00 -6.87335826e-02 -6.55975155e-02\n",
      " -1.04780771e+00 -1.00000000e+00]\n",
      "[-0.02920878 -0.99021333 -0.09453338 -0.3059546  -0.0948438  -0.99346487\n",
      " -0.30695925 -0.30796721 -0.99672708 -1.        ]\n",
      "[-1.06716807 -0.00714721 -0.20115652 -0.03791712 -1.04429183 -0.03710432\n",
      " -0.19684445 -1.02190598 -0.19262481 -1.        ]\n",
      "[-6.60370270e-05  1.93719672e-02  4.38782788e-04 -2.91549066e-03\n",
      "  1.63377285e-03  7.21299807e-02 -1.08555978e-02 -4.04199561e-02\n",
      "  2.68570253e-01  1.00000000e+00]\n",
      "[7.49091948 0.1086998  1.82711689 0.44565372 3.82845388 0.22776439\n",
      " 0.93380162 1.95664352 0.47724668 1.        ]\n",
      "[ 0.57790375 -0.00206722 -0.08838241  0.01351687 -0.69380434 -0.01622772\n",
      "  0.1061078   0.83294918 -0.12738809 -1.        ]\n",
      "[ 0.73783068 -0.05171235 -0.30420702  0.12542432 -0.81652811 -0.13880215\n",
      "  0.33665391  0.90361945 -0.37256161 -1.        ]\n",
      "[ 0.87667289 -0.17045002 -0.50787567  0.29422342 -0.91599208 -0.30741948\n",
      "  0.53065413  0.95707475 -0.55445421 -1.        ]\n",
      "[ 0.37506193 -0.23614281 -0.32145997  0.27551853 -0.52007821 -0.38204673\n",
      "  0.44575125  0.72116448 -0.61809929 -1.        ]\n",
      "[-0.78194404 -0.11030527 -0.40705135 -0.21189599 -0.84875781 -0.23000159\n",
      " -0.44183215 -0.92128053 -0.47958481 -1.        ]\n",
      "[ 0.04363033 -0.00277673 -0.01741954  0.0069548   0.12393454  0.01975553\n",
      " -0.04948123  0.35204337 -0.14055436  1.        ]\n"
     ]
    },
    {
     "ename": "ValueError",
     "evalue": "unexpected array size: new_size=10, got array with arr_size=1\n",
     "output_type": "error",
     "traceback": [
      "\u001B[1;31m---------------------------------------------------------------------------\u001B[0m",
      "\u001B[1;31mValueError\u001B[0m                                Traceback (most recent call last)",
      "Cell \u001B[1;32mIn[45], line 6\u001B[0m\n\u001B[0;32m      4\u001B[0m \u001B[38;5;66;03m## optimization (for details cf. https://docs.scipy.org/doc/scipy/reference/optimize.minimize-lbfgsb.html)\u001B[39;00m\n\u001B[0;32m      5\u001B[0m train_features \u001B[38;5;241m=\u001B[39m feature_fn(train_samples)\n\u001B[1;32m----> 6\u001B[0m res \u001B[38;5;241m=\u001B[39m opt\u001B[38;5;241m.\u001B[39mminimize(\n\u001B[0;32m      7\u001B[0m     \u001B[38;5;66;03m# pass objective\u001B[39;00m\n\u001B[0;32m      8\u001B[0m     fun\u001B[38;5;241m=\u001B[39m\u001B[38;5;28;01mlambda\u001B[39;00m w: objective_svm(w, train_features, train_labels, C),\n\u001B[0;32m      9\u001B[0m     \u001B[38;5;66;03m# pass initial point\u001B[39;00m\n\u001B[0;32m     10\u001B[0m     x0\u001B[38;5;241m=\u001B[39mnp\u001B[38;5;241m.\u001B[39mones(train_features\u001B[38;5;241m.\u001B[39mshape[\u001B[38;5;241m-\u001B[39m\u001B[38;5;241m1\u001B[39m]),\n\u001B[0;32m     11\u001B[0m     \u001B[38;5;66;03m# pass function to evaluate gradient (in scipy.opt \"jac\" for jacobian)\u001B[39;00m\n\u001B[0;32m     12\u001B[0m     jac\u001B[38;5;241m=\u001B[39m\u001B[38;5;28;01mlambda\u001B[39;00m w: d_objective_svm(w, train_features, train_labels, C),\n\u001B[0;32m     13\u001B[0m     \u001B[38;5;66;03m# specify method to use\u001B[39;00m\n\u001B[0;32m     14\u001B[0m     method\u001B[38;5;241m=\u001B[39m\u001B[38;5;124m\"\u001B[39m\u001B[38;5;124ml-bfgs-b\u001B[39m\u001B[38;5;124m\"\u001B[39m\n\u001B[0;32m     15\u001B[0m )\n\u001B[0;32m     16\u001B[0m \u001B[38;5;28mprint\u001B[39m(res)\n\u001B[0;32m     17\u001B[0m w_svm \u001B[38;5;241m=\u001B[39m res\u001B[38;5;241m.\u001B[39mx\n",
      "File \u001B[1;32m~\\.conda\\envs\\KIT\\Lib\\site-packages\\scipy\\optimize\\_minimize.py:713\u001B[0m, in \u001B[0;36mminimize\u001B[1;34m(fun, x0, args, method, jac, hess, hessp, bounds, constraints, tol, callback, options)\u001B[0m\n\u001B[0;32m    710\u001B[0m     res \u001B[38;5;241m=\u001B[39m _minimize_newtoncg(fun, x0, args, jac, hess, hessp, callback,\n\u001B[0;32m    711\u001B[0m                              \u001B[38;5;241m*\u001B[39m\u001B[38;5;241m*\u001B[39moptions)\n\u001B[0;32m    712\u001B[0m \u001B[38;5;28;01melif\u001B[39;00m meth \u001B[38;5;241m==\u001B[39m \u001B[38;5;124m'\u001B[39m\u001B[38;5;124ml-bfgs-b\u001B[39m\u001B[38;5;124m'\u001B[39m:\n\u001B[1;32m--> 713\u001B[0m     res \u001B[38;5;241m=\u001B[39m _minimize_lbfgsb(fun, x0, args, jac, bounds,\n\u001B[0;32m    714\u001B[0m                            callback\u001B[38;5;241m=\u001B[39mcallback, \u001B[38;5;241m*\u001B[39m\u001B[38;5;241m*\u001B[39moptions)\n\u001B[0;32m    715\u001B[0m \u001B[38;5;28;01melif\u001B[39;00m meth \u001B[38;5;241m==\u001B[39m \u001B[38;5;124m'\u001B[39m\u001B[38;5;124mtnc\u001B[39m\u001B[38;5;124m'\u001B[39m:\n\u001B[0;32m    716\u001B[0m     res \u001B[38;5;241m=\u001B[39m _minimize_tnc(fun, x0, args, jac, bounds, callback\u001B[38;5;241m=\u001B[39mcallback,\n\u001B[0;32m    717\u001B[0m                         \u001B[38;5;241m*\u001B[39m\u001B[38;5;241m*\u001B[39moptions)\n",
      "File \u001B[1;32m~\\.conda\\envs\\KIT\\Lib\\site-packages\\scipy\\optimize\\_lbfgsb_py.py:398\u001B[0m, in \u001B[0;36m_minimize_lbfgsb\u001B[1;34m(fun, x0, args, jac, bounds, disp, maxcor, ftol, gtol, eps, maxfun, maxiter, iprint, callback, maxls, finite_diff_rel_step, **unknown_options)\u001B[0m\n\u001B[0;32m    396\u001B[0m g \u001B[38;5;241m=\u001B[39m g\u001B[38;5;241m.\u001B[39mastype(np\u001B[38;5;241m.\u001B[39mfloat64)\n\u001B[0;32m    397\u001B[0m \u001B[38;5;66;03m# x, f, g, wa, iwa, task, csave, lsave, isave, dsave = \\\u001B[39;00m\n\u001B[1;32m--> 398\u001B[0m _lbfgsb\u001B[38;5;241m.\u001B[39msetulb(m, x, low_bnd, upper_bnd, nbd, f, g, factr,\n\u001B[0;32m    399\u001B[0m                pgtol, wa, iwa, task, iprint, csave, lsave,\n\u001B[0;32m    400\u001B[0m                isave, dsave, maxls)\n\u001B[0;32m    401\u001B[0m task_str \u001B[38;5;241m=\u001B[39m task\u001B[38;5;241m.\u001B[39mtobytes()\n\u001B[0;32m    402\u001B[0m \u001B[38;5;28;01mif\u001B[39;00m task_str\u001B[38;5;241m.\u001B[39mstartswith(\u001B[38;5;124mb\u001B[39m\u001B[38;5;124m'\u001B[39m\u001B[38;5;124mFG\u001B[39m\u001B[38;5;124m'\u001B[39m):\n\u001B[0;32m    403\u001B[0m     \u001B[38;5;66;03m# The minimization routine wants f and g at the current x.\u001B[39;00m\n\u001B[0;32m    404\u001B[0m     \u001B[38;5;66;03m# Note that interruptions due to maxfun are postponed\u001B[39;00m\n\u001B[0;32m    405\u001B[0m     \u001B[38;5;66;03m# until the completion of the current minimization iteration.\u001B[39;00m\n\u001B[0;32m    406\u001B[0m     \u001B[38;5;66;03m# Overwrite f and g:\u001B[39;00m\n",
      "\u001B[1;31mValueError\u001B[0m: unexpected array size: new_size=10, got array with arr_size=1\n"
     ]
    }
   ],
   "source": [
    "feature_fn = cubic_feature_fn\n",
    "C = 1000.0\n",
    "\n",
    "## optimization (for details cf. https://docs.scipy.org/doc/scipy/reference/optimize.minimize-lbfgsb.html)\n",
    "train_features = feature_fn(train_samples)\n",
    "res = opt.minimize(\n",
    "    # pass objective\n",
    "    fun=lambda w: objective_svm(w, train_features, train_labels, C),\n",
    "    # pass initial point\n",
    "    x0=np.ones(train_features.shape[-1]),\n",
    "    # pass function to evaluate gradient (in scipy.opt \"jac\" for jacobian)\n",
    "    jac=lambda w: d_objective_svm(w, train_features, train_labels, C),\n",
    "    # specify method to use\n",
    "    method=\"l-bfgs-b\"\n",
    ")\n",
    "print(res)\n",
    "w_svm = res.x\n",
    "\n",
    "## evaluation\n",
    "test_predictions = feature_fn(test_samples) @ w_svm\n",
    "train_predictions = feature_fn(train_samples) @ w_svm\n",
    "\n",
    "predicted_train_labels = np.ones(train_predictions.shape)\n",
    "predicted_train_labels[train_predictions < 0] = -1\n",
    "print(\"Train Accuracy: \", np.count_nonzero(predicted_train_labels == train_labels) / len(train_labels))\n",
    "\n",
    "predicted_test_labels = np.ones(test_predictions.shape)\n",
    "predicted_test_labels[test_predictions < 0] = -1\n",
    "print(\"Test Accuracy: \", np.count_nonzero(predicted_test_labels == test_labels) / len(test_labels))\n",
    "\n",
    "## plot train, contour, decision boundary and margins\n",
    "plt.figure()\n",
    "plt.title(\"Max Margin Solution (Predictions clipped at(-5, 5))\")\n",
    "x_plt_range = np.arange(-1.5, 2.5, 0.01)\n",
    "y_plt_range = np.arange(-1, 1.5, 0.01)\n",
    "plt_grid = np.stack(np.meshgrid(x_plt_range, y_plt_range), axis=-1)\n",
    "flat_plt_grid = np.reshape(plt_grid, [-1, 2])\n",
    "plt_grid_shape = plt_grid.shape[:2]\n",
    "\n",
    "pred_grid = np.reshape(feature_fn(flat_plt_grid) @ w_svm, plt_grid_shape)\n",
    "pred_grid = np.clip(pred_grid, -5, 5)\n",
    "#plt.contour(plt_grid[..., 0], plt_grid[..., 1], pred_grid, levels=[-1.0, 0.0, 1.0], colors=[\"blue\", \"black\", \"orange\"])\n",
    "plt.contour(plt_grid[..., 0], plt_grid[..., 1], pred_grid, levels=[-1, 0, 1], colors=('blue', 'black', 'orange'),\n",
    "            linestyles=('-',), linewidths=(2,))\n",
    "plt.contourf(plt_grid[..., 0], plt_grid[..., 1], pred_grid, levels=10)\n",
    "\n",
    "plt.colorbar()\n",
    "\n",
    "s0 =plt.scatter(x=train_samples[train_labels == -1, 0], y=train_samples[train_labels == -1, 1], label=\"c=-1\", c=\"blue\")\n",
    "s1 =plt.scatter(x=train_samples[train_labels == 1, 0], y=train_samples[train_labels == 1, 1], label=\"c=1\", c=\"orange\")\n",
    "plt.legend()\n",
    "\n",
    "plt.xlim(-1.5, 2.5)\n",
    "plt.ylim(-1, 1.5)\n",
    "plt.show()"
   ]
  },
  {
   "cell_type": "markdown",
   "metadata": {},
   "source": [
    "## 3) Kernel Ridge Regression (7p)\n",
    "\n",
    "In this task, we are going to get familiar with the kernel method and perform Kernel Ridge Regression using Gaussian kernels.\n",
    "\n",
    "Work flow:\n",
    "- Load and plot data\n",
    "- Implement a function to get the Gaussian kernel vector\n",
    "- Implement a function to get the Gaussian kernel matrix\n",
    "- Implement a function to apply Kernel Ridge Regression\n",
    "- Select best model and see some result plots\n"
   ]
  },
  {
   "cell_type": "markdown",
   "metadata": {},
   "source": [
    "### Load and plot data\n",
    "First, let us load and plot our data. Note that in this example the test data is not corrupted by noise.\n"
   ]
  },
  {
   "cell_type": "code",
   "execution_count": 13,
   "metadata": {
    "ExecuteTime": {
     "end_time": "2024-05-22T17:37:10.623999400Z",
     "start_time": "2024-05-22T17:37:10.208865200Z"
    }
   },
   "outputs": [
    {
     "data": {
      "text/plain": "<Figure size 1280x960 with 1 Axes>",
      "image/png": "[encoded data removed]"
     },
     "metadata": {},
     "output_type": "display_data"
    }
   ],
   "source": [
    "\n",
    "\n",
    "# Set random seed to obtain reproducible results\n",
    "np.random.seed(0)\n",
    "\n",
    "# Load training, validation and test datasets\n",
    "x_train = np.load('x_train.npy')\n",
    "y_train = np.load('y_train.npy')\n",
    "\n",
    "x_valid = np.load('x_valid.npy')\n",
    "y_valid = np.load('y_valid.npy')\n",
    "\n",
    "x_test = np.load('x_test.npy')\n",
    "y_test = np.load('y_test.npy')\n",
    "\n",
    "# Plot the data\n",
    "plt.figure(dpi=200, tight_layout=True)\n",
    "plt.plot(x_train, y_train, 'ob', label='training data', zorder=20)\n",
    "plt.plot(x_valid, y_valid, 'or', label='validation data',zorder=10)\n",
    "plt.plot(x_test, y_test, 'ok', label='test data', alpha=0.3, zorder=0)\n",
    "plt.legend()\n",
    "plt.show()\n"
   ]
  },
  {
   "cell_type": "markdown",
   "metadata": {},
   "source": [
    "### 3.1 Training, Validation and Testing datasets (1pt)\n",
    "In this homework, we are going to use a new type of dataset \"validation\" to help select our best hyperparameter and avoid overfitting. Please read the explanation below and understand the roles of training, validation and testing datasets respectively (1pt)."
   ]
  },
  {
   "cell_type": "markdown",
   "metadata": {},
   "source": [
    "Training, validation, and test datasets are three distinct subsets of a larger dataset that are used in the process of building and evaluating machine learning models.\n",
    "\n",
    "The training dataset is the subset of the data that is used to train a machine learning model. In other words, it's the data that the model learns from. Typically, the training dataset makes up the majority of the available data.\n",
    "\n",
    "The validation dataset is used to evaluate the performance of a model during the training process. It's a subset of the data that is held back from the training process and used to tune the model's hyperparameters, such as learning rate, number of hidden layers, etc. The goal of the validation dataset is to help prevent overfitting, which is when the model memorizes the training data and performs poorly on new, unseen data.\n",
    "\n",
    "The test dataset is a completely separate subset of the data that is used to evaluate the final performance of a trained model. It represents real-world data that the model has never seen before and is used to estimate the model's accuracy on new, unseen data. The test dataset should only be used after the model has been trained and validated to prevent any bias in the evaluation.\n",
    "\n",
    "It's important to note that the three datasets should be independent and identically distributed (IID) to ensure that the model is able to generalize well to new data. In addition, the sizes of the datasets may vary depending on the size and complexity of the original dataset and the specific requirements of the machine learning problem at hand.\n",
    "\n",
    "(Note: In our homework, however, we are going to use a large and denoised test dataset which is for plotting convienence.)"
   ]
  },
  {
   "cell_type": "markdown",
   "metadata": {},
   "source": [
    "### Gaussian Kernels:\n",
    "Since Gaussian kernels are the most commonly used kernels, we will concentrate on Gaussian kernels in this notebook. Remember the definition of a Gaussian kernel (slide 55):\\\n",
    "\\begin{align*}\n",
    "    k(\\boldsymbol{x}, \\boldsymbol{x^*}) = \\exp\\left(-\\frac{||\\boldsymbol{x}-\\boldsymbol{x^*}||^2}{2\\sigma^2}\\right),\n",
    "\\end{align*}\n",
    "where $\\boldsymbol{x}, \\boldsymbol{x^*}$ are two $d$-dimensional data points. $ \\sigma $ is the bandwidth hyperparameter. Recall that any kernel $k(\\boldsymbol{x}, \\boldsymbol{x^*})$ returns a scalar which represents some kind of discrepancy measure between two data points.\n",
    "\n"
   ]
  },
  {
   "cell_type": "markdown",
   "metadata": {},
   "source": [
    "### 3.2 Kernel Vector (3pts)\n",
    "Now we are going to implement a function to compute the kernel vector $\\boldsymbol k(\\boldsymbol x^*)$ (slide 59). Recall the definition: given $N$ training points $\\boldsymbol{x_i}, i=1,...,N$, and one additional query point $\\boldsymbol{x^*}$, $\\boldsymbol{k(x^*)}$ is defined as the $N$-dimensional vector whose $i$-th element is given by the kernel, evaluated at training point $\\boldsymbol{x_i}$ and the query point, i.e. $k(\\boldsymbol{x_i, x^*})$.\n",
    "\n",
    "Please finish the function below!\n",
    "\n",
    "Hints:\n",
    "- As we typically have $M > 1$ query points in practice, we would like to compute the corresponding $M$ kernel vectors in one function call, cf. the comments.\n",
    "- The computations we have to perform are the same as in `gaussian_kernel()`. However, we are now operating on more than one input vectors at once.\n",
    "- Avoid using loops! To this end, you may need to add additional dimensions to the input data and use broadcasting. Also, note that numpy operations such as `np.linalg.norm()` can operate on vector inputs and take an `axis`-argument!\n",
    "- Make sure your code works also for data with dimension larger than 1. You are going to need this later."
   ]
  },
  {
   "cell_type": "code",
   "execution_count": 14,
   "metadata": {},
   "outputs": [],
   "source": [
    "def get_kernel_vec(X_t: np.ndarray,\n",
    "                   X_q: np.ndarray,\n",
    "                   sigma: float) -> np.ndarray:\n",
    "    \"\"\"\n",
    "    :param X_t: N training inputs (shape: [N, d])\n",
    "    :param X_q: M query inputs (shape: [M, d])\n",
    "    :param sigma: bandwidth of the kernel (shape: scalar)\n",
    "    :return: M kernel vectors arranged as the columns of a matrix with shape [N, M]\n",
    "    \"\"\"\n",
    "    ############## Your code starts here ##############\n",
    "\n",
    "    ############### Your code ends here ###############\n",
    "\n",
    "    # assert the output shape being [N, M]\n",
    "    assert list(kernel_vectors.shape) == [X_t.shape[0], X_q.shape[0]]\n",
    "    return kernel_vectors"
   ]
  },
  {
   "cell_type": "markdown",
   "metadata": {},
   "source": [
    "### Radial Basis Function (RBF) features\n",
    "Now we use `get_kernel_vec()` to compute the kernel vectors w.r.t. our training inputs, using the test inputs as the query points. This allows us to plot the RBF features: we observe that at each training data point a Gaussian bump (the Gaussian kernel) is centered and that the bandwith parameter specifies the width of each bump."
   ]
  },
  {
   "cell_type": "code",
   "execution_count": 15,
   "metadata": {},
   "outputs": [
    {
     "ename": "NameError",
     "evalue": "name 'kernel_vectors' is not defined",
     "output_type": "error",
     "traceback": [
      "\u001B[1;31m---------------------------------------------------------------------------\u001B[0m",
      "\u001B[1;31mNameError\u001B[0m                                 Traceback (most recent call last)",
      "Cell \u001B[1;32mIn[15], line 4\u001B[0m\n\u001B[0;32m      1\u001B[0m \u001B[38;5;66;03m# Run this block to test your code\u001B[39;00m\n\u001B[0;32m      2\u001B[0m \n\u001B[0;32m      3\u001B[0m \u001B[38;5;66;03m# Compute the kernel vectors w.r.t. the training inputs, using the test inputs as query points\u001B[39;00m\n\u001B[1;32m----> 4\u001B[0m kernel_vectors \u001B[38;5;241m=\u001B[39m get_kernel_vec(x_train, x_test, \u001B[38;5;241m0.5\u001B[39m)\n\u001B[0;32m      5\u001B[0m kernel_vectors2 \u001B[38;5;241m=\u001B[39m get_kernel_vec(x_train, x_test, \u001B[38;5;241m0.2\u001B[39m)\n\u001B[0;32m      7\u001B[0m \u001B[38;5;66;03m# Prepare plot\u001B[39;00m\n",
      "Cell \u001B[1;32mIn[14], line 15\u001B[0m, in \u001B[0;36mget_kernel_vec\u001B[1;34m(X_t, X_q, sigma)\u001B[0m\n\u001B[0;32m      4\u001B[0m \u001B[38;5;250m\u001B[39m\u001B[38;5;124;03m\"\"\"\u001B[39;00m\n\u001B[0;32m      5\u001B[0m \u001B[38;5;124;03m:param X_t: N training inputs (shape: [N, d])\u001B[39;00m\n\u001B[0;32m      6\u001B[0m \u001B[38;5;124;03m:param X_q: M query inputs (shape: [M, d])\u001B[39;00m\n\u001B[0;32m      7\u001B[0m \u001B[38;5;124;03m:param sigma: bandwidth of the kernel (shape: scalar)\u001B[39;00m\n\u001B[0;32m      8\u001B[0m \u001B[38;5;124;03m:return: M kernel vectors arranged as the columns of a matrix with shape [N, M]\u001B[39;00m\n\u001B[0;32m      9\u001B[0m \u001B[38;5;124;03m\"\"\"\u001B[39;00m\n\u001B[0;32m     10\u001B[0m \u001B[38;5;66;03m############## Your code starts here ##############\u001B[39;00m\n\u001B[0;32m     11\u001B[0m \n\u001B[0;32m     12\u001B[0m \u001B[38;5;66;03m############### Your code ends here ###############\u001B[39;00m\n\u001B[0;32m     13\u001B[0m \n\u001B[0;32m     14\u001B[0m \u001B[38;5;66;03m# assert the output shape being [N, M]\u001B[39;00m\n\u001B[1;32m---> 15\u001B[0m \u001B[38;5;28;01massert\u001B[39;00m \u001B[38;5;28mlist\u001B[39m(kernel_vectors\u001B[38;5;241m.\u001B[39mshape) \u001B[38;5;241m==\u001B[39m [X_t\u001B[38;5;241m.\u001B[39mshape[\u001B[38;5;241m0\u001B[39m], X_q\u001B[38;5;241m.\u001B[39mshape[\u001B[38;5;241m0\u001B[39m]]\n\u001B[0;32m     16\u001B[0m \u001B[38;5;28;01mreturn\u001B[39;00m kernel_vectors\n",
      "\u001B[1;31mNameError\u001B[0m: name 'kernel_vectors' is not defined"
     ]
    }
   ],
   "source": [
    "# Run this block to test your code\n",
    "\n",
    "# Compute the kernel vectors w.r.t. the training inputs, using the test inputs as query points\n",
    "kernel_vectors = get_kernel_vec(x_train, x_test, 0.5)\n",
    "kernel_vectors2 = get_kernel_vec(x_train, x_test, 0.2)\n",
    "\n",
    "# Prepare plot\n",
    "plt.figure(dpi=200, tight_layout=True)\n",
    "\n",
    "# Plot the data\n",
    "plt.subplot(3,1,1)\n",
    "plt.plot(x_train, y_train, 'ro')\n",
    "plt.plot(x_test, y_test, 'k')\n",
    "plt.legend(['training data', 'ground_truth'])\n",
    "\n",
    "# Plot the kernel vectors\n",
    "plt.subplot(3,1,2)\n",
    "for kernel in kernel_vectors:\n",
    "    plt.plot(x_test, kernel, 'b')\n",
    "\n",
    "plt.subplot(3,1,3)\n",
    "for kernel in kernel_vectors2:\n",
    "    plt.plot(x_test, kernel, 'b')\n",
    "plt.show()"
   ]
  },
  {
   "cell_type": "markdown",
   "metadata": {},
   "source": [
    "### Kernel Ridge Regression with Gaussian Kernels\n",
    "\n",
    "Let's go ahead and do regression using Gaussian kernels. Remember the regression equation (slide 67):\n",
    "\n",
    "\\begin{align*}\n",
    "    f(\\boldsymbol{x^*}) = \\boldsymbol{k}(\\boldsymbol{x^*})^T(\\boldsymbol{K} + \\lambda \\boldsymbol{I})^{-1}\\boldsymbol{y},\n",
    "\\end{align*}\n",
    "where $ \\boldsymbol{k}(\\boldsymbol{x^*}) $ is the kernel vector, $ \\boldsymbol{K}$ is the kernel matrix and $ \\boldsymbol{y} $ are the target values from the training data."
   ]
  },
  {
   "cell_type": "markdown",
   "metadata": {},
   "source": [
    "### 3.3 Kernel Matrix (1pt)\n",
    "First, we have to compute the kernel matrix $\\boldsymbol K$ (slide 59). Recall the definition: $[\\boldsymbol K]_{ij} = k(\\boldsymbol x_i, \\boldsymbol x_j)$ with our training inputs $\\boldsymbol{x_i}, i=1,...,N$.\n",
    "\n",
    "Implement the function below (hint: re-use the `get_kernel_vec()` function)!"
   ]
  },
  {
   "cell_type": "code",
   "execution_count": null,
   "metadata": {},
   "outputs": [],
   "source": [
    "def get_kernel_mat(X: np.ndarray, sigma: float) -> np.ndarray:\n",
    "    \"\"\"\n",
    "    :param X: N training inputs (shape [N, d])\n",
    "    :sigma: bandwidth of the kernel (scalar)\n",
    "    :return: the kernel matrix (shape [N, N])\n",
    "    \"\"\"\n",
    "    ############## Your code starts here ##############\n",
    "\n",
    "    ############### Your code ends here ###############\n",
    "    # assert the output shape being [N, N]\n",
    "    assert list(kernel_mat.shape) == [X.shape[0], X.shape[0]]\n",
    "    return kernel_mat"
   ]
  },
  {
   "cell_type": "markdown",
   "metadata": {},
   "source": [
    "### 3.4 Kernel Regression Prediction (2pts)\n",
    "Now that we have finished the implementation of the kernel vector $\\boldsymbol{k(x^*)}$ and the kernel matrix $\\boldsymbol{K}$, we can compute the prediction $f(\\boldsymbol{x^*})$ in the function in below. Here we choose a fixed ridge factor $ \\lambda = 10^{-3}$.\n",
    "\n",
    "Hint: make sure you use numerically stable operations!\n"
   ]
  },
  {
   "cell_type": "code",
   "execution_count": null,
   "metadata": {},
   "outputs": [],
   "source": [
    "def predict(X_t: np.ndarray, y_t: np.ndarray,\n",
    "            X_q: np.ndarray, sigma: float) -> np.ndarray:\n",
    "    \"\"\"\n",
    "    :param X_t: N training inputs (shape [N, d])\n",
    "    :param y_t: N training targets (shape [N, 1])\n",
    "    :param X_q: M query inputs (shape [M, d])\n",
    "    :param sigma: bandwidth of the kernel (scalar)\n",
    "    :return: predicted values at X_q (shape [M, 1])\n",
    "    \"\"\"\n",
    "    k = get_kernel_vec(X_t, X_q, sigma) # shape [N, M]\n",
    "    K = get_kernel_mat(X_t, sigma) # shape [N, N]\n",
    "    ridge_factor = 1e-3\n",
    "    ############## Your code starts here ##############\n",
    "\n",
    "    ############### Your code ends here ###############\n",
    "    return prediction"
   ]
  },
  {
   "cell_type": "markdown",
   "metadata": {},
   "source": [
    "### Mean Squared Error\n",
    "Once again, we will use the mean squared error to measure the training and test error:"
   ]
  },
  {
   "cell_type": "code",
   "execution_count": null,
   "metadata": {},
   "outputs": [],
   "source": [
    "def mse(y_target: np.ndarray, y_pred: np.ndarray) -> float:\n",
    "    \"\"\"\n",
    "    :param y_target: true y values\n",
    "    :param y_pred: predicted y values\n",
    "    :return: MSE\n",
    "    \"\"\"\n",
    "    return np.sum((y_target-y_pred)**2)/y_pred.shape[0]"
   ]
  },
  {
   "cell_type": "markdown",
   "metadata": {},
   "source": [
    "### Model selection\n",
    "The Gaussian kernel method introduces a hyperparameter (the bandwidth $\\sigma$). We have to determine its value via model selection. Here, we use the hold-out method, i.e., we try different $\\sigma$ values and select the model which performs best on the validation dataset."
   ]
  },
  {
   "cell_type": "code",
   "execution_count": null,
   "metadata": {},
   "outputs": [],
   "source": [
    "sigmas = [0.01, .1, 0.5, 1, 1.5, 2, 2.5, 3, 3.5, 4, 4.5, 5, 5.5, 6, 6.5, 7, 7.5, 8, 8.5, 9, 9.5, 10]\n",
    "\n",
    "# compute train and validation errors for the different sigma values\n",
    "train_errors = []\n",
    "validate_errors = []\n",
    "for sigma in sigmas:\n",
    "    predict_train = predict(X_t=x_train, y_t=y_train,\n",
    "                              X_q=x_train, sigma=sigma)\n",
    "    predict_valid = predict(X_t=x_train, y_t=y_train,\n",
    "                             X_q=x_valid, sigma=sigma)\n",
    "    train_errors.append(mse(y_train, predict_train))\n",
    "    validate_errors.append(mse(y_valid, predict_valid))\n",
    "\n",
    "# determine best model\n",
    "min_valid_error_index = validate_errors.index(min(validate_errors))\n",
    "print(f'minimum validation error for sigma = {sigmas[min_valid_error_index]:.2f}')\n",
    "\n",
    "# plot the errors\n",
    "x_axis = [str(x) for x in sigmas]\n",
    "error_plot = plt.figure(dpi=200, tight_layout=True)\n",
    "plt.plot(x_axis, train_errors, 'b')\n",
    "plt.plot(x_axis, validate_errors, 'r')\n",
    "plt.plot(x_axis[min_valid_error_index], validate_errors[min_valid_error_index], 'gx')\n",
    "plt.xlabel( \"$\\sigma$\")\n",
    "plt.ylabel( \"MSE\" )\n",
    "plt.legend(['train error', 'validation error','min error'])"
   ]
  },
  {
   "cell_type": "markdown",
   "metadata": {},
   "source": [
    "We again observe the typical behavior: we have clear overfitting for small $ \\sigma $ values (high model complexity). For high $ \\sigma $ values (low model complexity) we observe underfitting. The best performing model is marked with a green 'x', as the minimum validation error is achieved for $ \\sigma = 3 $."
   ]
  },
  {
   "cell_type": "markdown",
   "metadata": {},
   "source": [
    "Let's look at predictions for different $ \\sigma $ values."
   ]
  },
  {
   "cell_type": "code",
   "execution_count": null,
   "metadata": {},
   "outputs": [],
   "source": [
    "# plot predictions for various bandwith parameters\n",
    "for sigma in [5.0,  3.0, 1.0 , 0.1]:\n",
    "    # compute predictions on train, test, and validation sets\n",
    "    y_pred_train = predict(X_t=x_train, y_t=y_train, X_q=x_train, sigma=sigma)\n",
    "    y_pred_valid = predict(X_t=x_train, y_t=y_train, X_q=x_valid, sigma=sigma)\n",
    "    y_pred_test = predict(X_t=x_train, y_t=y_train, X_q=x_test, sigma=sigma)\n",
    "\n",
    "    # print MSEs\n",
    "    print(f'sigma = {sigma:.2f}')\n",
    "    print(f'MSE train: {mse(y_train, y_pred_train):.2f}')\n",
    "    print(f'MSE valid: {mse(y_valid, y_pred_valid):.2f}')\n",
    "    print(f'MSE test : {mse(y_test, y_pred_test):.2f}')\n",
    "\n",
    "    # plot predictions\n",
    "    sigma_fig = plt.figure(dpi=75, tight_layout=True)\n",
    "    plt.plot(x_train, y_train, 'ro')\n",
    "    plt.plot(x_test, y_test, 'k')\n",
    "    plt.plot(x_test, y_pred_test, 'y')\n",
    "    plt.legend(['Training data', 'Ground-truth', '$\\sigma$ =' + str(sigma)])\n",
    "    plt.show()"
   ]
  },
  {
   "cell_type": "markdown",
   "metadata": {},
   "source": [
    "We again observe that the model overfits for $ \\sigma < 3.0 $ and underfits for $\\sigma > 3.0$, with $\\sigma = 3.0$ achieving the minimum validation error.\n",
    "\n",
    "Note that the model prediction reverts back to $0$ far away from training data (where \"far away\" has to be understood relative to the bandwidth $\\sigma$). E.g., for $ \\sigma = 0.1 $, the model prediction reverts back to $0$ in the input region [-2.5, -1.5] as all training points are \"far away\" w.r.t. the small bandwith value."
   ]
  },
  {
   "cell_type": "code",
   "execution_count": null,
   "metadata": {},
   "outputs": [],
   "source": []
  }
 ],
 "metadata": {
  "kernelspec": {
   "display_name": "Python 3 (ipykernel)",
   "language": "python",
   "name": "python3"
  },
  "language_info": {
   "codemirror_mode": {
    "name": "ipython",
    "version": 3
   },
   "file_extension": ".py",
   "mimetype": "text/x-python",
   "name": "python",
   "nbconvert_exporter": "python",
   "pygments_lexer": "ipython3",
   "version": "3.8.10"
  }
 },
 "nbformat": 4,
 "nbformat_minor": 1
}
